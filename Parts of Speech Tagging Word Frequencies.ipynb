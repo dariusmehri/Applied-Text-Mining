{
 "cells": [
  {
   "cell_type": "markdown",
   "metadata": {},
   "source": [
    "# Introduction to NLTK"
   ]
  },
  {
   "cell_type": "markdown",
   "metadata": {},
   "source": [
    "### Analyzing Moby Dick"
   ]
  },
  {
   "cell_type": "code",
   "execution_count": 115,
   "metadata": {
    "collapsed": false
   },
   "outputs": [
    {
     "name": "stdout",
     "output_type": "stream",
     "text": [
      "[nltk_data] Downloading package punkt to /home/jovyan/nltk_data...\n",
      "[nltk_data]   Package punkt is already up-to-date!\n"
     ]
    }
   ],
   "source": [
    "import nltk\n",
    "nltk.download('punkt')\n",
    "import pandas as pd\n",
    "import numpy as np\n",
    "\n",
    "\n",
    "# If you would like to work with the raw text you can use 'moby_raw'\n",
    "with open('moby.txt', 'r') as f:\n",
    "    moby_raw = f.read()\n",
    "    \n",
    "# If you would like to work with the novel in nltk.Text format you can use 'text1'\n",
    "moby_tokens = nltk.word_tokenize(moby_raw)\n",
    "text1 = nltk.Text(moby_tokens)"
   ]
  },
  {
   "cell_type": "markdown",
   "metadata": {},
   "source": [
    "How many tokens (words and punctuation symbols) are in text1?\n",
    "\n",
    "*This function should return an integer.*"
   ]
  },
  {
   "cell_type": "code",
   "execution_count": 95,
   "metadata": {
    "collapsed": false
   },
   "outputs": [
    {
     "data": {
      "text/plain": [
       "254989"
      ]
     },
     "execution_count": 95,
     "metadata": {},
     "output_type": "execute_result"
    }
   ],
   "source": [
    "def example_one():\n",
    "    \n",
    "    return len(nltk.word_tokenize(moby_raw)) # or alternatively len(text1)\n",
    "\n",
    "example_one()"
   ]
  },
  {
   "cell_type": "markdown",
   "metadata": {},
   "source": [
    "\n",
    "\n",
    "How many unique tokens (unique words and punctuation) does text1 have?\n",
    "\n",
    "*This function should return an integer.*"
   ]
  },
  {
   "cell_type": "code",
   "execution_count": 96,
   "metadata": {
    "collapsed": false
   },
   "outputs": [
    {
     "data": {
      "text/plain": [
       "20755"
      ]
     },
     "execution_count": 96,
     "metadata": {},
     "output_type": "execute_result"
    }
   ],
   "source": [
    "def example_two():\n",
    "    \n",
    "    return len(set(nltk.word_tokenize(moby_raw))) # or alternatively len(set(text1))\n",
    "\n",
    "example_two()"
   ]
  },
  {
   "cell_type": "markdown",
   "metadata": {},
   "source": [
    "\n",
    "\n",
    "After lemmatizing the verbs, how many unique tokens does text1 have?\n",
    "\n",
    "*This function should return an integer.*"
   ]
  },
  {
   "cell_type": "code",
   "execution_count": 97,
   "metadata": {
    "collapsed": false
   },
   "outputs": [
    {
     "name": "stdout",
     "output_type": "stream",
     "text": [
      "[nltk_data] Downloading package wordnet to /home/jovyan/nltk_data...\n",
      "[nltk_data]   Package wordnet is already up-to-date!\n"
     ]
    },
    {
     "data": {
      "text/plain": [
       "16900"
      ]
     },
     "execution_count": 97,
     "metadata": {},
     "output_type": "execute_result"
    }
   ],
   "source": [
    "from nltk.stem import WordNetLemmatizer\n",
    "nltk.download('wordnet')\n",
    "\n",
    "def example_three():\n",
    "\n",
    "    lemmatizer = WordNetLemmatizer()\n",
    "    lemmatized = [lemmatizer.lemmatize(w,'v') for w in text1]\n",
    "\n",
    "    return len(set(lemmatized))\n",
    "\n",
    "example_three()"
   ]
  },
  {
   "cell_type": "markdown",
   "metadata": {},
   "source": [
    "\n",
    "What is the lexical diversity of the given text input? (i.e. ratio of unique tokens to the total number of tokens)\n",
    "\n",
    "*This function should return a float.*"
   ]
  },
  {
   "cell_type": "code",
   "execution_count": 98,
   "metadata": {
    "collapsed": false
   },
   "outputs": [
    {
     "data": {
      "text/plain": [
       "0.08139566804842562"
      ]
     },
     "execution_count": 98,
     "metadata": {},
     "output_type": "execute_result"
    }
   ],
   "source": [
    "def answer_one():\n",
    "    \n",
    "    unique = len(set(nltk.word_tokenize(moby_raw))) # or alternatively len(set(text1))\n",
    "    total = len(nltk.word_tokenize(moby_raw)) # or alternatively len(text1)\n",
    "    return float(unique/total)\n",
    "\n",
    "answer_one()"
   ]
  },
  {
   "cell_type": "markdown",
   "metadata": {},
   "source": [
    "\n",
    "\n",
    "What percentage of tokens is 'whale'or 'Whale'?\n",
    "\n",
    "*This function should return a float.*"
   ]
  },
  {
   "cell_type": "code",
   "execution_count": 99,
   "metadata": {
    "collapsed": false
   },
   "outputs": [
    {
     "data": {
      "text/plain": [
       "0.4125668166077752"
      ]
     },
     "execution_count": 99,
     "metadata": {},
     "output_type": "execute_result"
    }
   ],
   "source": [
    "def answer_two():\n",
    "    total = nltk.word_tokenize(moby_raw)\n",
    "    #unique = len(set(nltk.word_tokenize(moby_raw)))\n",
    "    count=0\n",
    "    for i in range(0, len(total)):\n",
    "        if (total[i] == \"whale\" or total[i] == \"Whale\"  ):\n",
    "            count+=1\n",
    "            #print (total[i])\n",
    "            \n",
    "            \n",
    "    \n",
    "    percTok = (float(count/len(total)))\n",
    "    \n",
    "    return percTok*100\n",
    "\n",
    "answer_two()"
   ]
  },
  {
   "cell_type": "markdown",
   "metadata": {},
   "source": [
    "\n",
    "\n",
    "What are the 20 most frequently occurring (unique) tokens in the text? What is their frequency?\n",
    "\n",
    "*This function should return a list of 20 tuples where each tuple is of the form `(token, frequency)`. The list should be sorted in descending order of frequency.*"
   ]
  },
  {
   "cell_type": "code",
   "execution_count": 100,
   "metadata": {
    "collapsed": false
   },
   "outputs": [
    {
     "data": {
      "text/plain": [
       "[(',', 19204),\n",
       " ('the', 13715),\n",
       " ('.', 7308),\n",
       " ('of', 6513),\n",
       " ('and', 6010),\n",
       " ('a', 4545),\n",
       " ('to', 4515),\n",
       " (';', 4173),\n",
       " ('in', 3908),\n",
       " ('that', 2978),\n",
       " ('his', 2459),\n",
       " ('it', 2196),\n",
       " ('I', 2097),\n",
       " ('!', 1767),\n",
       " ('is', 1722),\n",
       " ('--', 1713),\n",
       " ('with', 1659),\n",
       " ('he', 1658),\n",
       " ('was', 1639),\n",
       " ('as', 1620)]"
      ]
     },
     "execution_count": 100,
     "metadata": {},
     "output_type": "execute_result"
    }
   ],
   "source": [
    "def answer_three():\n",
    "    import nltk\n",
    "    #from collections import Counter\n",
    "    \n",
    "    text = nltk.word_tokenize(moby_raw)\n",
    "    \n",
    "    df = pd.DataFrame(text)\n",
    "    \n",
    "    df[\"Value\"] = 1\n",
    "    \n",
    "    df = df.groupby([0]).sum()\n",
    "    df = df.add_suffix('').reset_index()\n",
    "    \n",
    "    df = df.sort_values(by = 'Value', ascending=False).reset_index(drop=True)\n",
    "    \n",
    "    df = df.rename(columns={0: 'Word'})\n",
    "    \n",
    "    df = df[0:20]\n",
    "    \n",
    "    token_list = []\n",
    "    \n",
    "    #for i in range(0, 20):\n",
    "    #    token_list.append[df[\"Word\"][i]]\n",
    "    \n",
    "    #counts = Counter(text)\n",
    "    \n",
    "    #dist = FreqDist(text)\n",
    "    #print (len(dist) )\n",
    "    \n",
    "    #print ( len(token_list) )\n",
    "    \n",
    "    return df.apply(tuple, axis=1).tolist()\n",
    "\n",
    "answer_three()"
   ]
  },
  {
   "cell_type": "markdown",
   "metadata": {},
   "source": [
    "\n",
    "\n",
    "What tokens have a length of greater than 5 and frequency of more than 150?\n",
    "\n",
    "*This function should return an alphabetically sorted list of the tokens that match the above constraints. To sort your list, use `sorted()`*"
   ]
  },
  {
   "cell_type": "code",
   "execution_count": 101,
   "metadata": {
    "collapsed": false
   },
   "outputs": [
    {
     "data": {
      "text/plain": [
       "['Captain',\n",
       " 'Pequod',\n",
       " 'Queequeg',\n",
       " 'Starbuck',\n",
       " 'almost',\n",
       " 'before',\n",
       " 'himself',\n",
       " 'little',\n",
       " 'seemed',\n",
       " 'should',\n",
       " 'though',\n",
       " 'through',\n",
       " 'whales',\n",
       " 'without']"
      ]
     },
     "execution_count": 101,
     "metadata": {},
     "output_type": "execute_result"
    }
   ],
   "source": [
    "def answer_four():\n",
    "    \n",
    "    pd.set_option('chained_assignment', None)\n",
    "    text = nltk.word_tokenize(moby_raw)\n",
    "    \n",
    "    df = pd.DataFrame(text)\n",
    "    \n",
    "    df[\"Value\"] = 1\n",
    "    \n",
    "    df = df.groupby([0]).sum()\n",
    "    df = df.add_suffix('').reset_index()\n",
    "    \n",
    "    df = df.sort_values(by = 'Value', ascending=False).reset_index(drop=True)\n",
    "    \n",
    "    df = df.rename(columns={0: 'Word'})\n",
    "    \n",
    "    #df[\"Word\"] = df[\"Word\"].map(str.strip)\n",
    "    \n",
    "    #print (len(df) )\n",
    "    df = df[df[\"Value\"] > 150].reset_index(drop=True)\n",
    "    \n",
    "    \n",
    "    #print (len(df[\"Word\"][0]))\n",
    "    \n",
    "    df[\"length\"] = 0\n",
    "    \n",
    "    for i in range(0, len(df)):\n",
    "        df[\"length\"][i] = len(df[\"Word\"][i])\n",
    "        \n",
    "        \n",
    "    df = df[df[\"length\"] > 5].reset_index(drop=True)\n",
    "    #print (len(df) )\n",
    "    \n",
    "    #df[\"Word\"] = df[\"Word\"].map(str.lower)\n",
    "    \n",
    "    return sorted(df[\"Word\"].tolist() )\n",
    "    \n",
    "    #return df\n",
    "\n",
    "answer_four()"
   ]
  },
  {
   "cell_type": "markdown",
   "metadata": {},
   "source": [
    "\n",
    "\n",
    "Find the longest word in text1 and that word's length.\n",
    "\n",
    "*This function should return a tuple `(longest_word, length)`.*"
   ]
  },
  {
   "cell_type": "code",
   "execution_count": 110,
   "metadata": {
    "collapsed": false
   },
   "outputs": [
    {
     "data": {
      "text/plain": [
       "(\"twelve-o'clock-at-night\", 23)"
      ]
     },
     "execution_count": 110,
     "metadata": {},
     "output_type": "execute_result"
    }
   ],
   "source": [
    "def answer_five():\n",
    "    #moby_tokens = nltk.word_tokenize(moby_raw)\n",
    "    #text1 = nltk.Text(moby_tokens)\n",
    "    \n",
    "    pd.set_option('chained_assignment', None)\n",
    "    words = nltk.word_tokenize(moby_raw)\n",
    "    \n",
    "    #print (len(words) )\n",
    "    \n",
    "    #words=[word for word in words if word.isalpha()]\n",
    "    \n",
    "    #print (len(words) )\n",
    "    \n",
    "    words2 = []\n",
    "    \n",
    "    for i in range(0, len(words)):\n",
    "        words2.append([words[i], len(words[i])])\n",
    "        \n",
    "    from operator import itemgetter\n",
    "\n",
    "    words3 = sorted(words2, key=itemgetter(1), reverse=True)\n",
    "\n",
    "    result = (words3[0][0], words3[0][1])\n",
    "    \n",
    "    return result\n",
    "\n",
    "answer_five()"
   ]
  },
  {
   "cell_type": "markdown",
   "metadata": {},
   "source": [
    "\n",
    "\n",
    "What unique words have a frequency of more than 2000? What is their frequency?\n",
    "\n",
    "\"Hint:  you may want to use `isalpha()` to check if the token is a word and not punctuation.\"\n",
    "\n",
    "*This function should return a list of tuples of the form `(frequency, word)` sorted in descending order of frequency.*"
   ]
  },
  {
   "cell_type": "code",
   "execution_count": 113,
   "metadata": {
    "collapsed": false
   },
   "outputs": [
    {
     "data": {
      "text/plain": [
       "[(13715, 'the'),\n",
       " (6513, 'of'),\n",
       " (6010, 'and'),\n",
       " (4545, 'a'),\n",
       " (4515, 'to'),\n",
       " (3908, 'in'),\n",
       " (2978, 'that'),\n",
       " (2459, 'his'),\n",
       " (2196, 'it'),\n",
       " (2097, 'I')]"
      ]
     },
     "execution_count": 113,
     "metadata": {},
     "output_type": "execute_result"
    }
   ],
   "source": [
    "def answer_six():\n",
    "    words = nltk.word_tokenize(moby_raw)\n",
    "    \n",
    "    #print (len(words) )\n",
    "    \n",
    "    words=[word for word in words if word.isalpha()]\n",
    "    \n",
    "    df = pd.DataFrame(words)\n",
    "    \n",
    "    df[\"Value\"] = 1\n",
    "    \n",
    "    df = df.groupby([0]).sum()\n",
    "    df = df.add_suffix('').reset_index()\n",
    "    \n",
    "    df = df.sort_values(by = 'Value', ascending=False).reset_index(drop=True)\n",
    "    \n",
    "    df = df.rename(columns={0: 'Word'})\n",
    "    \n",
    "    df = df[df[\"Value\"] > 2000].reset_index(drop=True)\n",
    "    \n",
    "    freqList = []\n",
    "    \n",
    "    for i in range(0, len(df)):\n",
    "        freqList.append( (df[\"Value\"][i], df[\"Word\"][i]  ) )\n",
    "        \n",
    "    \n",
    "    return freqList\n",
    "\n",
    "answer_six()"
   ]
  },
  {
   "cell_type": "markdown",
   "metadata": {},
   "source": [
    "\n",
    "\n",
    "What is the average number of tokens per sentence?\n",
    "\n",
    "*This function should return a float.*"
   ]
  },
  {
   "cell_type": "code",
   "execution_count": 125,
   "metadata": {
    "collapsed": false
   },
   "outputs": [
    {
     "data": {
      "text/plain": [
       "25.881952902963864"
      ]
     },
     "execution_count": 125,
     "metadata": {},
     "output_type": "execute_result"
    }
   ],
   "source": [
    "def answer_seven():\n",
    "    \n",
    "    import numpy as np\n",
    "    sent_text = nltk.sent_tokenize(moby_raw)\n",
    "    \n",
    "    avgTok = []\n",
    "    \n",
    "    for sentence in sent_text:\n",
    "        tokenized_text = nltk.word_tokenize(sentence)\n",
    "        \n",
    "        #print (len(tokenized_text) )\n",
    "        \n",
    "        avgTok.append(len(tokenized_text) )\n",
    "    \n",
    "    \n",
    "    return np.mean(avgTok)\n",
    "\n",
    "answer_seven()"
   ]
  },
  {
   "cell_type": "markdown",
   "metadata": {},
   "source": [
    "\n",
    "\n",
    "What are the 5 most frequent parts of speech in this text? What is their frequency?\n",
    "\n",
    "*This function should return a list of tuples of the form `(part_of_speech, frequency)` sorted in descending order of frequency.*"
   ]
  },
  {
   "cell_type": "code",
   "execution_count": 136,
   "metadata": {
    "collapsed": false
   },
   "outputs": [
    {
     "data": {
      "text/plain": [
       "[('NN', 32730), ('IN', 28657), ('DT', 25867), (',', 19204), ('JJ', 17620)]"
      ]
     },
     "execution_count": 136,
     "metadata": {},
     "output_type": "execute_result"
    }
   ],
   "source": [
    "def answer_eight():\n",
    "    #nltk.download('averaged_perceptron_tagger')\n",
    "    words = nltk.word_tokenize(moby_raw)\n",
    "    tagged = nltk.pos_tag(words)\n",
    "    \n",
    "    df = pd.DataFrame(tagged)\n",
    "    \n",
    "    df[\"Value\"] = 1\n",
    "    \n",
    "    df = df.rename(columns={1: 'pos'})\n",
    "    \n",
    "    df = df[[\"pos\", \"Value\"]]\n",
    "    \n",
    "    df = df.groupby([\"pos\"]).sum()\n",
    "    df = df.add_suffix('').reset_index()\n",
    "    \n",
    "    df = df.sort_values(by = 'Value', ascending=False).reset_index(drop=True)\n",
    "    \n",
    "    df = df[0:5]\n",
    "\n",
    "    #df = df[[1]]\n",
    "    \n",
    "    freqList = []\n",
    "    for i in range(0, len(df)):\n",
    "        freqList.append( (df[\"pos\"][i], df[\"Value\"][i]  ) )\n",
    "    \n",
    "    return freqList\n",
    "\n",
    "answer_eight()"
   ]
  }
 ],
 "metadata": {
  "coursera": {
   "course_slug": "python-text-mining",
   "graded_item_id": "r35En",
   "launcher_item_id": "tCVfW",
   "part_id": "NTVgL"
  },
  "kernelspec": {
   "display_name": "Python 2",
   "language": "python",
   "name": "python2"
  },
  "language_info": {
   "codemirror_mode": {
    "name": "ipython",
    "version": 2
   },
   "file_extension": ".py",
   "mimetype": "text/x-python",
   "name": "python",
   "nbconvert_exporter": "python",
   "pygments_lexer": "ipython2",
   "version": "2.7.13"
  }
 },
 "nbformat": 4,
 "nbformat_minor": 2
}
