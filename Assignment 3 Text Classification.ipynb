{
 "cells": [
  {
   "cell_type": "markdown",
   "metadata": {},
   "source": [
    "---\n",
    "\n",
    "_You are currently looking at **version 1.1** of this notebook. To download notebooks and datafiles, as well as get help on Jupyter notebooks in the Coursera platform, visit the [Jupyter Notebook FAQ](https://www.coursera.org/learn/python-text-mining/resources/d9pwm) course resource._\n",
    "\n",
    "---"
   ]
  },
  {
   "cell_type": "markdown",
   "metadata": {},
   "source": [
    "# Assignment 3\n",
    "\n",
    "In this assignment you will explore text message data and create models to predict if a message is spam or not. "
   ]
  },
  {
   "cell_type": "code",
   "execution_count": 23,
   "metadata": {
    "collapsed": false
   },
   "outputs": [
    {
     "data": {
      "text/html": [
       "<div>\n",
       "<table border=\"1\" class=\"dataframe\">\n",
       "  <thead>\n",
       "    <tr style=\"text-align: right;\">\n",
       "      <th></th>\n",
       "      <th>text</th>\n",
       "      <th>target</th>\n",
       "    </tr>\n",
       "  </thead>\n",
       "  <tbody>\n",
       "    <tr>\n",
       "      <th>0</th>\n",
       "      <td>Go until jurong point, crazy.. Available only ...</td>\n",
       "      <td>0</td>\n",
       "    </tr>\n",
       "    <tr>\n",
       "      <th>1</th>\n",
       "      <td>Ok lar... Joking wif u oni...</td>\n",
       "      <td>0</td>\n",
       "    </tr>\n",
       "    <tr>\n",
       "      <th>2</th>\n",
       "      <td>Free entry in 2 a wkly comp to win FA Cup fina...</td>\n",
       "      <td>1</td>\n",
       "    </tr>\n",
       "    <tr>\n",
       "      <th>3</th>\n",
       "      <td>U dun say so early hor... U c already then say...</td>\n",
       "      <td>0</td>\n",
       "    </tr>\n",
       "    <tr>\n",
       "      <th>4</th>\n",
       "      <td>Nah I don't think he goes to usf, he lives aro...</td>\n",
       "      <td>0</td>\n",
       "    </tr>\n",
       "    <tr>\n",
       "      <th>5</th>\n",
       "      <td>FreeMsg Hey there darling it's been 3 week's n...</td>\n",
       "      <td>1</td>\n",
       "    </tr>\n",
       "    <tr>\n",
       "      <th>6</th>\n",
       "      <td>Even my brother is not like to speak with me. ...</td>\n",
       "      <td>0</td>\n",
       "    </tr>\n",
       "    <tr>\n",
       "      <th>7</th>\n",
       "      <td>As per your request 'Melle Melle (Oru Minnamin...</td>\n",
       "      <td>0</td>\n",
       "    </tr>\n",
       "    <tr>\n",
       "      <th>8</th>\n",
       "      <td>WINNER!! As a valued network customer you have...</td>\n",
       "      <td>1</td>\n",
       "    </tr>\n",
       "    <tr>\n",
       "      <th>9</th>\n",
       "      <td>Had your mobile 11 months or more? U R entitle...</td>\n",
       "      <td>1</td>\n",
       "    </tr>\n",
       "  </tbody>\n",
       "</table>\n",
       "</div>"
      ],
      "text/plain": [
       "                                                text  target\n",
       "0  Go until jurong point, crazy.. Available only ...       0\n",
       "1                      Ok lar... Joking wif u oni...       0\n",
       "2  Free entry in 2 a wkly comp to win FA Cup fina...       1\n",
       "3  U dun say so early hor... U c already then say...       0\n",
       "4  Nah I don't think he goes to usf, he lives aro...       0\n",
       "5  FreeMsg Hey there darling it's been 3 week's n...       1\n",
       "6  Even my brother is not like to speak with me. ...       0\n",
       "7  As per your request 'Melle Melle (Oru Minnamin...       0\n",
       "8  WINNER!! As a valued network customer you have...       1\n",
       "9  Had your mobile 11 months or more? U R entitle...       1"
      ]
     },
     "execution_count": 23,
     "metadata": {},
     "output_type": "execute_result"
    }
   ],
   "source": [
    "import pandas as pd\n",
    "import numpy as np\n",
    "\n",
    "path = \"C:\\\\Users\\\\dmehri\\\\Documents\\\\DATA\\\\Applied Data Science Coursera\\\\Course 4 Text Mining\\\\\"\n",
    "\n",
    "spam_data = pd.read_csv(path + 'spam.csv')\n",
    "\n",
    "spam_data['target'] = np.where(spam_data['target']=='spam',1,0)\n",
    "spam_data.head(10)"
   ]
  },
  {
   "cell_type": "code",
   "execution_count": 24,
   "metadata": {
    "collapsed": true
   },
   "outputs": [],
   "source": [
    "from sklearn.model_selection import train_test_split\n",
    "\n",
    "\n",
    "X_train, X_test, y_train, y_test = train_test_split(spam_data['text'], \n",
    "                                                    spam_data['target'], \n",
    "                                                    random_state=0)"
   ]
  },
  {
   "cell_type": "markdown",
   "metadata": {},
   "source": [
    "### Question 1\n",
    "What percentage of the documents in `spam_data` are spam?\n",
    "\n",
    "*This function should return a float, the percent value (i.e. $ratio * 100$).*"
   ]
  },
  {
   "cell_type": "code",
   "execution_count": 273,
   "metadata": {
    "collapsed": false
   },
   "outputs": [],
   "source": [
    "def answer_one():\n",
    "    \n",
    "    path = \"C:\\\\Users\\\\dmehri\\\\Documents\\\\DATA\\\\Applied Data Science Coursera\\\\Course 4 Text Mining\\\\\"\n",
    "\n",
    "    spam_data = pd.read_csv(path + 'spam.csv')\n",
    "\n",
    "    spam_data['target'] = np.where(spam_data['target']=='spam',1,0)\n",
    "    spam_data.head(10)\n",
    "    \n",
    "    \n",
    "    \n",
    "    return (spam_data['target'].mean() ) *100\n",
    "\n",
    "#answer_one()"
   ]
  },
  {
   "cell_type": "code",
   "execution_count": 274,
   "metadata": {
    "collapsed": false
   },
   "outputs": [
    {
     "data": {
      "text/plain": [
       "13.406317300789663"
      ]
     },
     "execution_count": 274,
     "metadata": {},
     "output_type": "execute_result"
    }
   ],
   "source": [
    "answer_one()"
   ]
  },
  {
   "cell_type": "markdown",
   "metadata": {},
   "source": [
    "### Question 2\n",
    "\n",
    "Fit the training data `X_train` using a Count Vectorizer with default parameters.\n",
    "\n",
    "What is the longest token in the vocabulary?\n",
    "\n",
    "*This function should return a string.*"
   ]
  },
  {
   "cell_type": "code",
   "execution_count": 13,
   "metadata": {
    "collapsed": false
   },
   "outputs": [
    {
     "data": {
      "text/plain": [
       "u'com1win150ppmx3age16subscription'"
      ]
     },
     "execution_count": 13,
     "metadata": {},
     "output_type": "execute_result"
    }
   ],
   "source": [
    "from sklearn.feature_extraction.text import CountVectorizer\n",
    "\n",
    "def answer_two():\n",
    "    from sklearn.feature_extraction.text import CountVectorizer\n",
    "    \n",
    "    from sklearn.model_selection import train_test_split\n",
    "\n",
    "\n",
    "    X_train, X_test, y_train, y_test = train_test_split(spam_data['text'], \n",
    "                                                        spam_data['target'], \n",
    "                                                        random_state=0)\n",
    "    \n",
    "\n",
    "    # Fit the CountVectorizer to the training data\n",
    "    vect = CountVectorizer().fit(X_train)\n",
    "    \n",
    "    fn = vect.get_feature_names()\n",
    "    \n",
    "    #print max(fn, key=len)\n",
    "    \n",
    "    return max(fn, key=len)\n",
    "\n",
    "answer_two()"
   ]
  },
  {
   "cell_type": "code",
   "execution_count": 14,
   "metadata": {
    "collapsed": false
   },
   "outputs": [
    {
     "data": {
      "text/plain": [
       "u'com1win150ppmx3age16subscription'"
      ]
     },
     "execution_count": 14,
     "metadata": {},
     "output_type": "execute_result"
    }
   ],
   "source": [
    "answer_two()"
   ]
  },
  {
   "cell_type": "markdown",
   "metadata": {},
   "source": [
    "### Question 3\n",
    "\n",
    "Fit and transform the training data `X_train` using a Count Vectorizer with default parameters.\n",
    "\n",
    "Next, fit a fit a multinomial Naive Bayes classifier model with smoothing `alpha=0.1`. Find the area under the curve (AUC) score using the transformed test data.\n",
    "\n",
    "*This function should return the AUC score as a float.*"
   ]
  },
  {
   "cell_type": "code",
   "execution_count": 42,
   "metadata": {
    "collapsed": true
   },
   "outputs": [],
   "source": [
    "from sklearn.naive_bayes import MultinomialNB\n",
    "from sklearn.metrics import roc_auc_score\n",
    "\n",
    "def answer_three():\n",
    "    from sklearn.feature_extraction.text import CountVectorizer\n",
    "    \n",
    "    from sklearn.model_selection import train_test_split\n",
    "    \n",
    "    from sklearn.naive_bayes import MultinomialNB\n",
    "    \n",
    "    from nltk.classify import NaiveBayesClassifier\n",
    "    \n",
    "    from sklearn.metrics import roc_auc_score\n",
    "\n",
    "\n",
    "    X_train, X_test, y_train, y_test = train_test_split(spam_data['text'], \n",
    "                                                        spam_data['target'], \n",
    "                                                        random_state=0)\n",
    "    \n",
    "\n",
    "    # Fit the CountVectorizer to the training data\n",
    "    vect = CountVectorizer().fit(X_train)\n",
    "    X_train_vectorized = vect.transform(X_train)\n",
    "    \n",
    "    #from sklearn.linear_model import LogisticRegression\n",
    "    # Train the model\n",
    "    #model = LogisticRegression()\n",
    "    #use x train vectorized to train the model\n",
    "    #model.fit(X_train_vectorized, y_train)\n",
    "    \n",
    "    #from nltk.classify import NaiveBayesClassifier\n",
    "    #classifier = NaiveBayesClassifier.train(train_set, alpha=0.1)\n",
    "    #classifier.classify(unlabaled_instance)\n",
    "    #classifier.classify_many(unlabeled_instances)\n",
    "    \n",
    "    from nltk.classify import SklearnClassifier\n",
    "    from sklearn.naive_bayes import MultinomialNB\n",
    "    #from sklearn.svm import SVC\n",
    "    #clfrNB = SklearnClassifier(MultinomialNB()).train(train_set)\n",
    "    clfrNB = MultinomialNB(alpha=0.1)\n",
    "    \n",
    "    #train(X_train_vectorized)\n",
    "    clfrNB.fit(X_train_vectorized, y_train)\n",
    "    \n",
    "    # Predict the transformed test documents\n",
    "    predictions = clfrNB.predict(vect.transform(X_test))\n",
    "\n",
    "    #print('AUC: ', roc_auc_score(y_test, predictions))\n",
    "    \n",
    "    \n",
    "    return roc_auc_score(y_test, predictions)"
   ]
  },
  {
   "cell_type": "code",
   "execution_count": 43,
   "metadata": {
    "collapsed": false
   },
   "outputs": [
    {
     "data": {
      "text/plain": [
       "0.97208121827411165"
      ]
     },
     "execution_count": 43,
     "metadata": {},
     "output_type": "execute_result"
    }
   ],
   "source": [
    "answer_three()"
   ]
  },
  {
   "cell_type": "markdown",
   "metadata": {},
   "source": [
    "### Question 4\n",
    "\n",
    "Fit and transform the training data `X_train` using a Tfidf Vectorizer with default parameters.\n",
    "\n",
    "What 20 features have the smallest tf-idf and what 20 have the largest tf-idf?\n",
    "\n",
    "Put these features in a two series where each series is sorted by tf-idf value and then alphabetically by feature name. The index of the series should be the feature name, and the data should be the tf-idf.\n",
    "\n",
    "The series of 20 features with smallest tf-idfs should be sorted smallest tfidf first, the list of 20 features with largest tf-idfs should be sorted largest first. \n",
    "\n",
    "*This function should return a tuple of two series\n",
    "`(smallest tf-idfs series, largest tf-idfs series)`.*"
   ]
  },
  {
   "cell_type": "code",
   "execution_count": 142,
   "metadata": {
    "collapsed": false
   },
   "outputs": [
    {
     "data": {
      "text/plain": [
       "(aaniye          0.074475\n",
       " athletic        0.074475\n",
       " chef            0.074475\n",
       " companion       0.074475\n",
       " courageous      0.074475\n",
       " dependable      0.074475\n",
       " determined      0.074475\n",
       " diwali          0.091250\n",
       " exterminator    0.074475\n",
       " healer          0.074475\n",
       " listener        0.074475\n",
       " mornings        0.091250\n",
       " organizer       0.074475\n",
       " pest            0.074475\n",
       " psychiatrist    0.074475\n",
       " psychologist    0.074475\n",
       " pudunga         0.074475\n",
       " stylist         0.074475\n",
       " sympathetic     0.074475\n",
       " venaam          0.074475\n",
       " dtype: float64, 146tf150p    1.000000\n",
       " 645          1.000000\n",
       " anything     1.000000\n",
       " anytime      1.000000\n",
       " beerage      1.000000\n",
       " blank        0.932702\n",
       " done         1.000000\n",
       " er           1.000000\n",
       " havent       1.000000\n",
       " home         1.000000\n",
       " lei          1.000000\n",
       " nite         1.000000\n",
       " ok           1.000000\n",
       " okie         1.000000\n",
       " thank        1.000000\n",
       " thanx        1.000000\n",
       " tick         0.980166\n",
       " too          1.000000\n",
       " where        1.000000\n",
       " yup          1.000000\n",
       " dtype: float64)"
      ]
     },
     "execution_count": 142,
     "metadata": {},
     "output_type": "execute_result"
    }
   ],
   "source": [
    "from sklearn.feature_extraction.text import TfidfVectorizer\n",
    "\n",
    "def answer_four():\n",
    "    \n",
    "    #from sklearn.feature_extraction.text import CountVectorizer\n",
    "    from sklearn.model_selection import train_test_split\n",
    "    \n",
    "    #from sklearn.feature_extraction.text import CountVectorizer, TfidfTransformer\n",
    "    \n",
    "    #from sklearn.naive_bayes import MultinomialNB\n",
    "    #from nltk.classify import NaiveBayesClassifier\n",
    "    #from sklearn.metrics import roc_auc_score\n",
    "    \n",
    "    import pandas as pd\n",
    "\n",
    "\n",
    "    X_train, X_test, y_train, y_test = train_test_split(spam_data['text'], \n",
    "                                                        spam_data['target'], \n",
    "                                                        random_state=0)\n",
    "    \n",
    "    \n",
    "    \n",
    "    # Fit the TfidfVectorizer to the training data specifiying a minimum document frequency of 5\n",
    "    vect = TfidfVectorizer().fit(X_train)\n",
    "    X_train_vectorized = vect.transform(X_train)\n",
    "    #print len(vect.get_feature_names())\n",
    "    \n",
    "    \n",
    "    feature_names = np.array(vect.get_feature_names())\n",
    "\n",
    "    sorted_tfidf_index = X_train_vectorized.max(0).toarray()[0].argsort()\n",
    "\n",
    "    #print('Smallest tfidf:\\n{}\\n'.format(feature_names[sorted_tfidf_index[:20]]))\n",
    "    smallFeature = feature_names[sorted_tfidf_index[:20]]\n",
    "    #print smallFeature\n",
    "    #print('Smallest tfidf max-values:\\n{}\\n'.format(X_train_vectorized.max(0).toarray()[0][sorted_tfidf_index[:20]]))\n",
    "    smallScore = X_train_vectorized.max(0).toarray()[0][sorted_tfidf_index[:20]]\n",
    "    #print smallScore\n",
    "    \n",
    "    #print('Largest tfidf: \\n{}'.format(feature_names[sorted_tfidf_index[:-21:-1]]))\n",
    "    largeFeature = feature_names[sorted_tfidf_index[:-21:-1]]\n",
    "    #print largeFeature\n",
    "    #print('Largest tfidf max-values:\\n{}\\n'.format(X_train_vectorized.max(0).toarray()[0][sorted_tfidf_index[:-21:-1]]))\n",
    "    largeScore = X_train_vectorized.max(0).toarray()[0][sorted_tfidf_index[:-21:-1]]\n",
    "    #print largeScore\n",
    "    \n",
    "\n",
    "    \n",
    "    small = []\n",
    "    large = []\n",
    "    for i in range(0, 20):\n",
    "        small.append( [smallFeature[i], smallScore[i] ])\n",
    "        large.append([largeFeature[i], largeScore[i]])\n",
    "        \n",
    "    dfs = pd.DataFrame(small)\n",
    "    dfl = pd.DataFrame(large)\n",
    "    \n",
    "    dfs = dfs.sort_values(by = 1, ascending=True).reset_index(drop=True)\n",
    "    dfs = dfs.sort_values(by = 0, ascending=True).reset_index(drop=True)\n",
    "    dfl = dfl.sort_values(by = 1, ascending=False).reset_index(drop=True)\n",
    "    dfl = dfl.sort_values(by = 0, ascending=True).reset_index(drop=True)\n",
    "    \n",
    "    dfs = pd.Series(dfs[1].values, index=dfs[0])\n",
    "    dfs.index.name = None\n",
    "    dfl = pd.Series(dfl[1].values, index=dfl[0])\n",
    "    dfl.index.name = None\n",
    "    return (dfs, dfl)\n",
    "\n",
    "answer_four()\n",
    "\n"
   ]
  },
  {
   "cell_type": "markdown",
   "metadata": {},
   "source": [
    "### Question 5\n",
    "\n",
    "Fit and transform the training data `X_train` using a Tfidf Vectorizer ignoring terms that have a document frequency strictly lower than **3**.\n",
    "\n",
    "Then fit a multinomial Naive Bayes classifier model with smoothing `alpha=0.1` and compute the area under the curve (AUC) score using the transformed test data.\n",
    "\n",
    "*This function should return the AUC score as a float.*"
   ]
  },
  {
   "cell_type": "code",
   "execution_count": 145,
   "metadata": {
    "collapsed": false
   },
   "outputs": [
    {
     "data": {
      "text/plain": [
       "0.94162436548223349"
      ]
     },
     "execution_count": 145,
     "metadata": {},
     "output_type": "execute_result"
    }
   ],
   "source": [
    "def answer_five():\n",
    "    from sklearn.model_selection import train_test_split\n",
    "    from sklearn.feature_extraction.text import TfidfVectorizer\n",
    "    from sklearn.naive_bayes import MultinomialNB\n",
    "    from nltk.classify import NaiveBayesClassifier\n",
    "    from sklearn.metrics import roc_auc_score\n",
    "    \n",
    "    \n",
    "    #from sklearn.feature_extraction.text import CountVectorizer, TfidfTransformer\n",
    "    #from sklearn.naive_bayes import MultinomialNB\n",
    "    #from nltk.classify import NaiveBayesClassifier\n",
    "    #from sklearn.metrics import roc_auc_score\n",
    "    \n",
    "    #import pandas as pd\n",
    "\n",
    "\n",
    "    X_train, X_test, y_train, y_test = train_test_split(spam_data['text'], \n",
    "                                                        spam_data['target'], \n",
    "                                                        random_state=0)\n",
    "    \n",
    "    vect = TfidfVectorizer(min_df=3).fit(X_train)\n",
    "    X_train_vectorized = vect.transform(X_train)\n",
    "    \n",
    "    clfrNB = MultinomialNB(alpha=0.1)\n",
    "    \n",
    "    #train(X_train_vectorized)\n",
    "    clfrNB.fit(X_train_vectorized, y_train)\n",
    "    \n",
    "    # Predict the transformed test documents\n",
    "    predictions = clfrNB.predict(vect.transform(X_test))\n",
    "\n",
    "    \n",
    "    \n",
    "    return roc_auc_score(y_test, predictions)\n",
    "\n",
    "answer_five()"
   ]
  },
  {
   "cell_type": "code",
   "execution_count": null,
   "metadata": {
    "collapsed": true
   },
   "outputs": [],
   "source": [
    "answer_five()"
   ]
  },
  {
   "cell_type": "markdown",
   "metadata": {},
   "source": [
    "### Question 6\n",
    "\n",
    "What is the average length of documents (number of characters) for not spam and spam documents?\n",
    "\n",
    "*This function should return a tuple (average length not spam, average length spam).*"
   ]
  },
  {
   "cell_type": "code",
   "execution_count": 154,
   "metadata": {
    "collapsed": false
   },
   "outputs": [
    {
     "data": {
      "text/plain": [
       "(139.75903614457832, 71.132849740932642)"
      ]
     },
     "execution_count": 154,
     "metadata": {},
     "output_type": "execute_result"
    }
   ],
   "source": [
    "def answer_six():\n",
    "    \n",
    "    import numpy as np\n",
    "    \n",
    "    pd.set_option('chained_assignment', None)\n",
    "    df = spam_data.copy()\n",
    "    \n",
    "    df[\"Length\"] = \"\"\n",
    "    \n",
    "    for i in range(0, len(df)):\n",
    "        a =  df[\"text\"][i]\n",
    "        \n",
    "        df[\"Length\"][i] = len(a)\n",
    "        \n",
    "        #print len(a)\n",
    "    \n",
    "    spam = df[df[\"target\"] == 1]\n",
    "    s = spam[\"Length\"].mean()\n",
    "    \n",
    "    notspam = df[df[\"target\"] == 0]\n",
    "    ns = notspam[\"Length\"].mean()\n",
    "\n",
    "    \n",
    "    return (ns, s)\n",
    "\n",
    "answer_six()"
   ]
  },
  {
   "cell_type": "code",
   "execution_count": null,
   "metadata": {
    "collapsed": true
   },
   "outputs": [],
   "source": [
    "answer_six()"
   ]
  },
  {
   "cell_type": "markdown",
   "metadata": {},
   "source": [
    "<br>\n",
    "<br>\n",
    "The following function has been provided to help you combine new features into the training data:"
   ]
  },
  {
   "cell_type": "code",
   "execution_count": 22,
   "metadata": {
    "collapsed": true
   },
   "outputs": [],
   "source": [
    "def add_feature(X, feature_to_add):\n",
    "    \"\"\"\n",
    "    Returns sparse feature matrix with added feature.\n",
    "    feature_to_add can also be a list of features.\n",
    "    \"\"\"\n",
    "    from scipy.sparse import csr_matrix, hstack\n",
    "    return hstack([X, csr_matrix(feature_to_add).T], 'csr')"
   ]
  },
  {
   "cell_type": "markdown",
   "metadata": {},
   "source": [
    "### Question 7\n",
    "\n",
    "Fit and transform the training data X_train using a Tfidf Vectorizer ignoring terms that have a document frequency strictly lower than **5**.\n",
    "\n",
    "Using this document-term matrix and an additional feature, **the length of document (number of characters)**, fit a Support Vector Classification model with regularization `C=10000`. Then compute the area under the curve (AUC) score using the transformed test data.\n",
    "\n",
    "*This function should return the AUC score as a float.*"
   ]
  },
  {
   "cell_type": "code",
   "execution_count": 230,
   "metadata": {
    "collapsed": false
   },
   "outputs": [
    {
     "data": {
      "text/plain": [
       "0.95813668234215565"
      ]
     },
     "execution_count": 230,
     "metadata": {},
     "output_type": "execute_result"
    }
   ],
   "source": [
    "from sklearn.svm import SVC\n",
    "\n",
    "def answer_seven():\n",
    "    from sklearn.model_selection import train_test_split\n",
    "    from sklearn.feature_extraction.text import TfidfVectorizer\n",
    "    from sklearn.naive_bayes import MultinomialNB\n",
    "    from nltk.classify import NaiveBayesClassifier\n",
    "    from sklearn.metrics import roc_auc_score\n",
    "    \n",
    "    import pandas as pd\n",
    "\n",
    "\n",
    "    X_train, X_test, y_train, y_test = train_test_split(spam_data['text'], \n",
    "                                                        spam_data['target'], \n",
    "                                                        random_state=0)\n",
    "    \n",
    "    vect = TfidfVectorizer(min_df=5).fit(X_train)\n",
    "    X_train_vectorized = vect.transform(X_train)\n",
    "    #vect_test = TfidfVectorizer(min_df=5).fit(X_test)\n",
    "    X_test_vectorized = vect.transform(X_test)\n",
    "    \n",
    "    #length of string, number of characters in string\n",
    "    num_chars = X_train.str.len()\n",
    "    X_train_vectorized2 = add_feature(X_train_vectorized, num_chars)\n",
    "    \n",
    "    num_chars = X_test.str.len()\n",
    "    X_test_vectorized2 = add_feature(X_test_vectorized, num_chars)\n",
    "    \n",
    "    model = SVC(C=10000)\n",
    "    \n",
    "    model.fit(X_train_vectorized2, y_train)\n",
    "    \n",
    "    predictions = model.predict(X_test_vectorized2)\n",
    "\n",
    "\n",
    "    #print('AUC: ', roc_auc_score(y_test, predictions))\n",
    "    \n",
    "    \n",
    "    return roc_auc_score(y_test, predictions)\n",
    "\n",
    "answer_seven()"
   ]
  },
  {
   "cell_type": "code",
   "execution_count": null,
   "metadata": {
    "collapsed": true
   },
   "outputs": [],
   "source": [
    "answer_seven()"
   ]
  },
  {
   "cell_type": "markdown",
   "metadata": {},
   "source": [
    "### Question 8\n",
    "\n",
    "What is the average number of digits per document for not spam and spam documents?\n",
    "\n",
    "*This function should return a tuple (average # digits not spam, average # digits spam).*"
   ]
  },
  {
   "cell_type": "code",
   "execution_count": 158,
   "metadata": {
    "collapsed": false
   },
   "outputs": [
    {
     "data": {
      "text/plain": [
       "(0.29927461139896372, 15.759036144578314)"
      ]
     },
     "execution_count": 158,
     "metadata": {},
     "output_type": "execute_result"
    }
   ],
   "source": [
    "def answer_eight():\n",
    "    \n",
    "    pd.set_option('chained_assignment', None)\n",
    "    df = spam_data.copy()\n",
    "    \n",
    "    df[\"Length\"] = \"\"\n",
    "    \n",
    "    for i in range(0, len(df)):\n",
    "        s =  df[\"text\"][i]\n",
    "        \n",
    "        numbers = sum(c.isdigit() for c in s)\n",
    "        \n",
    "        df[\"Length\"][i] = numbers\n",
    "        \n",
    "        #print len(a)\n",
    "        \n",
    "    spam = df[df[\"target\"] == 1]\n",
    "    s = spam[\"Length\"].mean()\n",
    "    \n",
    "    notspam = df[df[\"target\"] == 0]\n",
    "    ns = notspam[\"Length\"].mean()\n",
    "    \n",
    "    return (ns, s)\n",
    "\n",
    "answer_eight()"
   ]
  },
  {
   "cell_type": "code",
   "execution_count": 157,
   "metadata": {
    "collapsed": true
   },
   "outputs": [],
   "source": [
    "df.to_csv(\"C:\\\\Users\\\\dmehri\\\\Documents\\\\DATA\\\\Applied Data Science Coursera\\\\test.csv\")"
   ]
  },
  {
   "cell_type": "code",
   "execution_count": null,
   "metadata": {
    "collapsed": true
   },
   "outputs": [],
   "source": [
    "answer_eight()"
   ]
  },
  {
   "cell_type": "markdown",
   "metadata": {},
   "source": [
    "### Question 9\n",
    "\n",
    "Fit and transform the training data `X_train` using a Tfidf Vectorizer ignoring terms that have a document frequency strictly lower than **5** and using **word n-grams from n=1 to n=3** (unigrams, bigrams, and trigrams).\n",
    "\n",
    "Using this document-term matrix and the following additional features:\n",
    "* the length of document (number of characters)\n",
    "* **number of digits per document**\n",
    "\n",
    "fit a Logistic Regression model with regularization `C=100`. Then compute the area under the curve (AUC) score using the transformed test data.\n",
    "\n",
    "*This function should return the AUC score as a float.*"
   ]
  },
  {
   "cell_type": "code",
   "execution_count": 237,
   "metadata": {
    "collapsed": false
   },
   "outputs": [
    {
     "data": {
      "text/plain": [
       "0.97040897747143606"
      ]
     },
     "execution_count": 237,
     "metadata": {},
     "output_type": "execute_result"
    }
   ],
   "source": [
    "from sklearn.linear_model import LogisticRegression\n",
    "\n",
    "def answer_nine():\n",
    "    import re\n",
    "    from sklearn.model_selection import train_test_split\n",
    "    from sklearn.feature_extraction.text import TfidfVectorizer\n",
    "    from sklearn.naive_bayes import MultinomialNB\n",
    "    from nltk.classify import NaiveBayesClassifier\n",
    "    from sklearn.metrics import roc_auc_score\n",
    "   \n",
    "    X_train, X_test, y_train, y_test = train_test_split(spam_data['text'], \n",
    "                                                        spam_data['target'], \n",
    "                                                        random_state=0)\n",
    "    \n",
    "    vect = TfidfVectorizer(min_df=5, ngram_range=(1,3)).fit(X_train)\n",
    "    X_train_vectorized = vect.transform(X_train)\n",
    "    #vect_test = TfidfVectorizer(min_df=5).fit(X_test)\n",
    "    X_test_vectorized = vect.transform(X_test)\n",
    "    \n",
    "    num_chars = X_train.str.len()\n",
    "    num_digits = X_train.apply(lambda x:len(re.findall(r'(\\d)',x)))\n",
    "    print num_digits\n",
    "    X_train_vectorized2 = add_feature(X_train_vectorized, [num_chars,num_digits] )\n",
    "    \n",
    "    num_chars = X_test.str.len()\n",
    "    num_digits = X_test.apply(lambda x:len(re.findall(r'(\\d)',x)))\n",
    "    X_test_vectorized2 = add_feature(X_test_vectorized, [num_chars,num_digits])\n",
    "    \n",
    "    model = LogisticRegression(C=100)\n",
    "    \n",
    "    model.fit(X_train_vectorized2, y_train)\n",
    "    \n",
    "    predictions = model.predict(X_test_vectorized2)\n",
    "    \n",
    "    return roc_auc_score(y_test, predictions)\n",
    "\n",
    "answer_nine()"
   ]
  },
  {
   "cell_type": "code",
   "execution_count": null,
   "metadata": {
    "collapsed": true
   },
   "outputs": [],
   "source": [
    "answer_nine()"
   ]
  },
  {
   "cell_type": "markdown",
   "metadata": {},
   "source": [
    "### Question 10\n",
    "\n",
    "What is the average number of non-word characters (anything other than a letter, digit or underscore) per document for not spam and spam documents?\n",
    "\n",
    "*Hint: Use `\\w` and `\\W` character classes*\n",
    "\n",
    "*This function should return a tuple (average # non-word characters not spam, average # non-word characters spam).*"
   ]
  },
  {
   "cell_type": "code",
   "execution_count": 7,
   "metadata": {
    "collapsed": false
   },
   "outputs": [
    {
     "data": {
      "text/plain": [
       "'#$&^#@!'"
      ]
     },
     "execution_count": 7,
     "metadata": {},
     "output_type": "execute_result"
    }
   ],
   "source": [
    "import re\n",
    "x = \"asdfklsdf#$&_^#@989!_\"\n",
    "new = re.sub('[\\w]+' ,'', x)\n",
    "\n",
    "new"
   ]
  },
  {
   "cell_type": "code",
   "execution_count": 16,
   "metadata": {
    "collapsed": false
   },
   "outputs": [
    {
     "data": {
      "text/plain": [
       "(17.486424870466323, 30.389558232931726)"
      ]
     },
     "execution_count": 16,
     "metadata": {},
     "output_type": "execute_result"
    }
   ],
   "source": [
    "def answer_ten():\n",
    "    import re\n",
    "    pd.set_option('chained_assignment', None)\n",
    "    df = spam_data.copy()\n",
    "    \n",
    "    df[\"Length\"] = \"\"\n",
    "    \n",
    "   \n",
    "    for i in range(0, len(df)):\n",
    "        x = df[\"text\"][i]\n",
    "        \n",
    "        new = [w for w in x if re.search('[\\W]', w)]\n",
    " \n",
    "        df[\"Length\"][i] = len(new)\n",
    "    \n",
    "\n",
    "    spam = df[df[\"target\"] == 1]\n",
    "    #spam[\"Length\"] = spam[\"text\"].str.count(r'\\W')\n",
    "    s = spam[\"Length\"].mean()\n",
    "    \n",
    "    #print spam\n",
    "    \n",
    "    notspam = df[df[\"target\"] == 0]\n",
    "    ns = notspam[\"Length\"].mean()\n",
    "    \n",
    "    #X_train.str.count(r'\\W')\n",
    "    \n",
    "    return (ns, s)\n",
    "    #return df\n",
    "\n",
    "answer_ten()"
   ]
  },
  {
   "cell_type": "code",
   "execution_count": null,
   "metadata": {
    "collapsed": true
   },
   "outputs": [],
   "source": [
    "answer_ten()"
   ]
  },
  {
   "cell_type": "markdown",
   "metadata": {},
   "source": [
    "### Question 11\n",
    "\n",
    "Fit and transform the training data X_train using a Count Vectorizer ignoring terms that have a document frequency strictly lower than **5** and using **character n-grams from n=2 to n=5.**\n",
    "\n",
    "To tell Count Vectorizer to use character n-grams pass in `analyzer='char_wb'` which creates character n-grams only from text inside word boundaries. This should make the model more robust to spelling mistakes.\n",
    "\n",
    "Using this document-term matrix and the following additional features:\n",
    "* the length of document (number of characters)\n",
    "* number of digits per document\n",
    "* **number of non-word characters (anything other than a letter, digit or underscore.)**\n",
    "\n",
    "fit a Logistic Regression model with regularization C=100. Then compute the area under the curve (AUC) score using the transformed test data.\n",
    "\n",
    "Also **find the 10 smallest and 10 largest coefficients from the model** and return them along with the AUC score in a tuple.\n",
    "\n",
    "The list of 10 smallest coefficients should be sorted smallest first, the list of 10 largest coefficients should be sorted largest first.\n",
    "\n",
    "The three features that were added to the document term matrix should have the following names should they appear in the list of coefficients:\n",
    "['length_of_doc', 'digit_count', 'non_word_char_count']\n",
    "\n",
    "*This function should return a tuple `(AUC score as a float, smallest coefs list, largest coefs list)`.*"
   ]
  },
  {
   "cell_type": "code",
   "execution_count": 39,
   "metadata": {
    "collapsed": false
   },
   "outputs": [
    {
     "name": "stdout",
     "output_type": "stream",
     "text": [
      "Smallest tfidf:\n",
      "[u'ool, ' u'eep. ' u'eeph' u'eepho' u'eepi' u'eepin' u'eer' u'eer ' u'eep.'\n",
      " u'eeri']\n",
      "\n",
      "Largest tfidf: \n",
      "[u'. ' u't;' u' .' u' . ' u't ' u'..' u' t' u'...' u'....' u'e ']\n"
     ]
    },
    {
     "data": {
      "text/plain": [
       "0.97885931107074342"
      ]
     },
     "execution_count": 39,
     "metadata": {},
     "output_type": "execute_result"
    }
   ],
   "source": [
    "def answer_eleven():\n",
    "    import re\n",
    "    from sklearn.model_selection import train_test_split\n",
    "    from sklearn.feature_extraction.text import TfidfVectorizer\n",
    "    from sklearn.metrics import roc_auc_score\n",
    "    from sklearn.feature_extraction.text import CountVectorizer\n",
    "    from sklearn.linear_model import LogisticRegression\n",
    "\n",
    "   \n",
    "    X_train, X_test, y_train, y_test = train_test_split(spam_data['text'], \n",
    "                                                        spam_data['target'], \n",
    "                                                        random_state=0)\n",
    "    \n",
    "    vect = CountVectorizer(min_df=5,analyzer='char_wb', ngram_range=(2,5)).fit(X_train)\n",
    "    X_train_vectorized = vect.transform(X_train)\n",
    "    #vect_test = TfidfVectorizer(min_df=5).fit(X_test)\n",
    "    X_test_vectorized = vect.transform(X_test)\n",
    "    \n",
    "    pd.set_option('chained_assignment', None)\n",
    "    df = spam_data.copy()\n",
    "       \n",
    "    \n",
    "    num_chars = X_train.str.len()\n",
    "    num_digits = X_train.apply(lambda x:len(re.findall(r'(\\d)',x)))\n",
    "    num_non_char = X_train.apply(lambda x:len(re.findall(r'(\\W)',x)))\n",
    "    #num_nw = X_train.apply(lambda x:len(re.sub('[\\w]+' ,'', x)))\n",
    "    #print num_digits\n",
    "    X_train_vectorized2 = add_feature(X_train_vectorized, [num_chars,num_digits, num_non_char] )\n",
    "    \n",
    "    num_chars = X_test.str.len()\n",
    "    num_digits = X_test.apply(lambda x:len(re.findall(r'(\\d)',x)))\n",
    "    num_non_char = X_test.apply(lambda x:len(re.findall(r'(\\W)',x)))\n",
    "    X_test_vectorized2 = add_feature(X_test_vectorized, [num_chars,num_digits, num_non_char])\n",
    "    \n",
    "    \n",
    "    model = LogisticRegression(C=100)\n",
    "    \n",
    "    model.fit(X_train_vectorized2, y_train)\n",
    "    \n",
    "    predictions = model.predict(X_test_vectorized2)\n",
    "    \n",
    "    roc = roc_auc_score(y_test, predictions)\n",
    "    \n",
    "    feature_names = np.array(vect.get_feature_names())\n",
    "    sorted_tfidf_index = X_train_vectorized.max(0).toarray()[0].argsort()\n",
    "    print('Smallest tfidf:\\n{}\\n'.format(feature_names[sorted_tfidf_index[:10]]))\n",
    "    print('Largest tfidf: \\n{}'.format(feature_names[sorted_tfidf_index[:-11:-1]]))\n",
    "    \n",
    "    \n",
    "    \n",
    "    return (roc)\n",
    "\n",
    "answer_eleven()"
   ]
  },
  {
   "cell_type": "code",
   "execution_count": null,
   "metadata": {
    "collapsed": true
   },
   "outputs": [],
   "source": [
    "answer_eleven()"
   ]
  }
 ],
 "metadata": {
  "coursera": {
   "course_slug": "python-text-mining",
   "graded_item_id": "Pn19K",
   "launcher_item_id": "y1juS",
   "part_id": "ctlgo"
  },
  "kernelspec": {
   "display_name": "Python 2",
   "language": "python",
   "name": "python2"
  },
  "language_info": {
   "codemirror_mode": {
    "name": "ipython",
    "version": 2
   },
   "file_extension": ".py",
   "mimetype": "text/x-python",
   "name": "python",
   "nbconvert_exporter": "python",
   "pygments_lexer": "ipython2",
   "version": "2.7.13"
  }
 },
 "nbformat": 4,
 "nbformat_minor": 2
}
